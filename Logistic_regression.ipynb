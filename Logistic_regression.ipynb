{
 "cells": [
  {
   "cell_type": "code",
   "execution_count": 33,
   "id": "9ad7a45e",
   "metadata": {},
   "outputs": [],
   "source": [
    "import pandas as pd\n",
    "import numpy as np\n",
    "from sklearn import preprocessing\n",
    "from sklearn.preprocessing import StandardScaler\n",
    "from sklearn.model_selection import train_test_split\n",
    "from sklearn.linear_model import LogisticRegression\n",
    "from sklearn.metrics import accuracy_score,confusion_matrix, classification_report"
   ]
  },
  {
   "cell_type": "code",
   "execution_count": 27,
   "id": "6f257db0",
   "metadata": {},
   "outputs": [
    {
     "data": {
      "text/plain": [
       "(6411, 250)"
      ]
     },
     "execution_count": 27,
     "metadata": {},
     "output_type": "execute_result"
    }
   ],
   "source": [
    "model_data=pd.read_csv('model_data.csv')\n",
    "for i in model_data.index:\n",
    "    if model_data.loc[i,'Success_rate']>0.85:\n",
    "        model_data.loc[i,'Successful']=1\n",
    "    else:\n",
    "        model_data.loc[i,'Successful']=0\n",
    "\n",
    "model_data=model_data.astype({'licensed':'category',\"host_in_sfo\":'category',\n",
    "                               \"has_availability\":'category',\"host_is_superhost\":'category',\n",
    "                                \"host_has_profile_pic\":'category',\"host_identity_verified\":'category',\n",
    "                               \"instant_bookable\":'category'})\n",
    "dummy_columns=['has_availability','host_is_superhost','host_has_profile_pic','host_identity_verified','neighbourhood_cleansed','property_type','room_type','bathrooms_text','instant_bookable']\n",
    "for i in dummy_columns:\n",
    "    encoded_data=pd.get_dummies(model_data,drop_first=True)\n",
    "encoded_data.drop(['Success_rate'],axis=1,inplace=True)\n",
    "encoded_data.shape\n",
    "#it creates n dummies if n>2 &  n-1 dummies if n=2 "
   ]
  },
  {
   "cell_type": "code",
   "execution_count": 28,
   "id": "63b60066",
   "metadata": {},
   "outputs": [
    {
     "data": {
      "text/plain": [
       "((5128, 249), (1283, 249))"
      ]
     },
     "execution_count": 28,
     "metadata": {},
     "output_type": "execute_result"
    }
   ],
   "source": [
    "X=encoded_data.drop(['Successful'],axis=1)\n",
    "Y=encoded_data['Successful']\n",
    "\n",
    "#train, valid & test test split\n",
    "X_train,X_test,Y_train,Y_test=train_test_split(X,Y,test_size=0.2,random_state=1)\n",
    "X_train.shape,X_test.shape"
   ]
  },
  {
   "cell_type": "code",
   "execution_count": 29,
   "id": "ba302d20",
   "metadata": {},
   "outputs": [],
   "source": [
    "cols=X_train.columns\n",
    "scaler=StandardScaler()\n",
    "X_train=scaler.fit_transform(X_train)\n",
    "X_test=scaler.transform(X_test)\n",
    "X_train=pd.DataFrame(X_train,columns=cols)\n",
    "X_test=pd.DataFrame(X_test,columns=cols)"
   ]
  },
  {
   "cell_type": "code",
   "execution_count": 47,
   "id": "4339c27d",
   "metadata": {},
   "outputs": [],
   "source": [
    "LR = LogisticRegression(C=0.01,solver='liblinear',max_iter=200).fit(X_train, Y_train)\n",
    "y_pred_train=LR.predict(X_train)\n",
    "y_pred_test = LR.predict(X_test)"
   ]
  },
  {
   "cell_type": "code",
   "execution_count": 48,
   "id": "31a70302",
   "metadata": {},
   "outputs": [
    {
     "name": "stdout",
     "output_type": "stream",
     "text": [
      "Model accuracy score in train set:0.8181\n",
      "Model accuracy score in test set:0.7903\n",
      "              precision    recall  f1-score   support\n",
      "\n",
      "         0.0       0.80      0.95      0.87       934\n",
      "         1.0       0.73      0.36      0.48       349\n",
      "\n",
      "    accuracy                           0.79      1283\n",
      "   macro avg       0.77      0.66      0.68      1283\n",
      "weighted avg       0.78      0.79      0.76      1283\n",
      "\n"
     ]
    }
   ],
   "source": [
    "print('Model accuracy score in train set:{0:0.4f}'.format(accuracy_score(Y_train,y_pred_train)))\n",
    "print('Model accuracy score in test set:{0:0.4f}'.format(accuracy_score(Y_test,y_pred_test)))\n",
    "print(classification_report(Y_test, y_pred_test))"
   ]
  },
  {
   "cell_type": "code",
   "execution_count": null,
   "id": "01e20088",
   "metadata": {},
   "outputs": [],
   "source": []
  }
 ],
 "metadata": {
  "kernelspec": {
   "display_name": "Python 3 (ipykernel)",
   "language": "python",
   "name": "python3"
  },
  "language_info": {
   "codemirror_mode": {
    "name": "ipython",
    "version": 3
   },
   "file_extension": ".py",
   "mimetype": "text/x-python",
   "name": "python",
   "nbconvert_exporter": "python",
   "pygments_lexer": "ipython3",
   "version": "3.7.11"
  }
 },
 "nbformat": 4,
 "nbformat_minor": 5
}
